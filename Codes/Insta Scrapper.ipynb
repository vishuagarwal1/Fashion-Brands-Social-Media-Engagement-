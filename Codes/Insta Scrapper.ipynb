{
 "cells": [
  {
   "cell_type": "markdown",
   "id": "ba4f81ec",
   "metadata": {},
   "source": [
    "# Instagram Scrapper"
   ]
  },
  {
   "cell_type": "code",
   "execution_count": null,
   "id": "ddf64406",
   "metadata": {},
   "outputs": [],
   "source": [
    "#!/usr/bin/python3.6\n",
    "# use your Instagram username and password on line 13. Run the code and you will get an error and an instruction to set your browser to a page asking if you just logged in.\n",
    "# Say Yes. and run the script again. It should run this time. If you get a recursion error, refresh this page again by putting your cursor on the URL bar and hitting Enter. Now run the script. Should work.\n",
    "import instaloader\n",
    "import  time\n",
    "import  pandas as pd\n",
    "import sys\n",
    "sys.setrecursionlimit(10000)\n",
    "from datetime import datetime\n",
    "from itertools import dropwhile, takewhile\n",
    "\n",
    "L = instaloader.Instaloader()\n",
    "L.login(<enter user name>, <enter password>)\n",
    "df=pd.DataFrame()\n",
    "\n",
    "#CODE TO GET DATA FROM AN ACCOUNT\n",
    "i=0\n",
    "for post in instaloader.Profile.from_username(L.context, <enter name of page to be scrapped>).get_posts():\n",
    "    df = df.append({'Caption': post.caption, 'Likes': post.likes, 'URL': post.url, 'Comments' : post.comments}, ignore_index=True)\n",
    "    i = i+1\n",
    "    if i>250:\n",
    "        break\n",
    "df"
   ]
  }
 ],
 "metadata": {
  "kernelspec": {
   "display_name": "Python 3",
   "language": "python",
   "name": "python3"
  },
  "language_info": {
   "codemirror_mode": {
    "name": "ipython",
    "version": 3
   },
   "file_extension": ".py",
   "mimetype": "text/x-python",
   "name": "python",
   "nbconvert_exporter": "python",
   "pygments_lexer": "ipython3",
   "version": "3.8.8"
  }
 },
 "nbformat": 4,
 "nbformat_minor": 5
}
